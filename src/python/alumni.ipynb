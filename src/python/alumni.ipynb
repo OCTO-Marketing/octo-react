{
 "cells": [
  {
   "cell_type": "code",
   "execution_count": 4,
   "metadata": {},
   "outputs": [],
   "source": [
    "import pandas as pd\n",
    "import numpy as np"
   ]
  },
  {
   "cell_type": "code",
   "execution_count": 12,
   "metadata": {},
   "outputs": [],
   "source": [
    "df = pd.read_csv(\"./alumni.csv\").drop(\n",
    "    [\n",
    "        \"Timestamp\",\n",
    "        \"I confirm that I will be a part of OCTO for the upcoming semester and perform my role to the best of my ability, communicating with team leads whenever I am unable to do so.\",\n",
    "        \"Are you a part of the OCTO Discord (and Berkeley Mobile Slack if applicable) and are your notifications turned on?\",\n",
    "        \"I am open to being contacted for a Member Spotlight interview with AZ for our marketing efforts.\",\n",
    "        \"What classes are you taking this semester?\",\n",
    "        \"What other campus involvements do you have? ex. clubs, research, TA/AI, sports, etc.\",\n",
    "        \"Are you willing to participate in OCTO's informal mentorship program this semester? We will be pairing up members with similar interests and aspirations so you can network and give each other advice.\",\n",
    "        \"Size for OCTO merch (listed in men's sizing)\",\n",
    "        \"Can you make it to our first ever RETREAT on 3/17-19?\",\n",
    "        \"Professional Interests\",\n",
    "        \"Hobbies\",\n",
    "        'Areas of study (major, minor, certificates)',\n",
    "        'Hometown'\n",
    "    ],\n",
    "    axis=1,\n",
    ")"
   ]
  },
  {
   "cell_type": "code",
   "execution_count": 13,
   "metadata": {},
   "outputs": [],
   "source": [
    "def pronouns_standardize(np: str) -> str:\n",
    "    np = (\n",
    "        np.lower()\n",
    "        .replace(\"/his\", \"\")\n",
    "        .replace(\"/hers\", \"\")\n",
    "        .replace(\"he/him or they/them\", \"he/they\")\n",
    "    )\n",
    "\n",
    "    he_series = \"he/him\"\n",
    "    she_series = \"she/her\"\n",
    "\n",
    "    if np == \"she series\":\n",
    "        return she_series\n",
    "    elif np in [\"he series\", \"he, him\", \"he\", \"he him \"]:\n",
    "        return he_series\n",
    "\n",
    "    return np\n",
    "\n",
    "\n",
    "df[\"Pronouns\"] = df[\"Pronouns\"].apply(pronouns_standardize)"
   ]
  },
  {
   "cell_type": "code",
   "execution_count": 14,
   "metadata": {},
   "outputs": [],
   "source": [
    "df[\"link\"] = df.pop(\"Link to your Linkedin\")\n",
    "df[\"email\"] = df.pop(\"Berkeley Email\")\n",
    "team_and_position = df.pop(\"Team\").to_numpy().tolist()\n",
    "team = [entry.split(\" -- \")[0] for entry in team_and_position]\n",
    "position = [\n",
    "    entry.split(\" -- \")[1] if len(entry.split(\" -- \")) == 2 else \"\"\n",
    "    for entry in team_and_position\n",
    "]\n",
    "df[\"team\"] = team\n",
    "df[\"position\"] = position"
   ]
  },
  {
   "cell_type": "code",
   "execution_count": 15,
   "metadata": {},
   "outputs": [],
   "source": [
    "df[\"team\"] = df[\"team\"].replace(\"Saruul\", \"Chief Technology Officer\")\n",
    "df[\"name\"] = df.pop(\"First Name\") + ' ' + df.pop(\"Last Name\")"
   ]
  },
  {
   "cell_type": "code",
   "execution_count": 16,
   "metadata": {},
   "outputs": [
    {
     "data": {
      "text/html": [
       "<div>\n",
       "<style scoped>\n",
       "    .dataframe tbody tr th:only-of-type {\n",
       "        vertical-align: middle;\n",
       "    }\n",
       "\n",
       "    .dataframe tbody tr th {\n",
       "        vertical-align: top;\n",
       "    }\n",
       "\n",
       "    .dataframe thead th {\n",
       "        text-align: right;\n",
       "    }\n",
       "</style>\n",
       "<table border=\"1\" class=\"dataframe\">\n",
       "  <thead>\n",
       "    <tr style=\"text-align: right;\">\n",
       "      <th></th>\n",
       "      <th>Pronouns</th>\n",
       "      <th>Year</th>\n",
       "      <th>link</th>\n",
       "      <th>email</th>\n",
       "      <th>team</th>\n",
       "      <th>position</th>\n",
       "      <th>name</th>\n",
       "    </tr>\n",
       "  </thead>\n",
       "  <tbody>\n",
       "    <tr>\n",
       "      <th>0</th>\n",
       "      <td>he/him</td>\n",
       "      <td>Freshman</td>\n",
       "      <td>https://www.linkedin.com/in/xufei-wang-998341190/</td>\n",
       "      <td>xfwang22@berkeley.edu</td>\n",
       "      <td>Berkeley Mobile</td>\n",
       "      <td>Designer</td>\n",
       "      <td>Xufei (Eric) Wang</td>\n",
       "    </tr>\n",
       "    <tr>\n",
       "      <th>1</th>\n",
       "      <td>she/her</td>\n",
       "      <td>Junior</td>\n",
       "      <td>https://www.linkedin.com/in/saruulamarbayar/</td>\n",
       "      <td>saruul@berkeley.edu</td>\n",
       "      <td>Chief Technology Officer</td>\n",
       "      <td></td>\n",
       "      <td>Saruul Amarbayar</td>\n",
       "    </tr>\n",
       "    <tr>\n",
       "      <th>2</th>\n",
       "      <td>she/her</td>\n",
       "      <td>Sophomore</td>\n",
       "      <td>https://www.linkedin.com/in/sherlene-su-1166b521a</td>\n",
       "      <td>sherlenes@berkeley.edu</td>\n",
       "      <td>Berkeley Mobile</td>\n",
       "      <td>Product Manager</td>\n",
       "      <td>Sherlene Su</td>\n",
       "    </tr>\n",
       "    <tr>\n",
       "      <th>3</th>\n",
       "      <td>she/her</td>\n",
       "      <td>Junior</td>\n",
       "      <td>https://www.linkedin.com/in/ikshita-puri-3bb32...</td>\n",
       "      <td>ikshitapuri@berkeley.edu</td>\n",
       "      <td>Berkeley Mobile</td>\n",
       "      <td>Product Manager</td>\n",
       "      <td>Ikshita Puri</td>\n",
       "    </tr>\n",
       "    <tr>\n",
       "      <th>4</th>\n",
       "      <td>he/him</td>\n",
       "      <td>Junior</td>\n",
       "      <td>https://www.linkedin.com/in/huangleo00/</td>\n",
       "      <td>klhftco@berkeley.edu</td>\n",
       "      <td>Berkeley Mobile</td>\n",
       "      <td>Developer</td>\n",
       "      <td>Leo Huang</td>\n",
       "    </tr>\n",
       "  </tbody>\n",
       "</table>\n",
       "</div>"
      ],
      "text/plain": [
       "  Pronouns       Year                                               link  \\\n",
       "0   he/him   Freshman  https://www.linkedin.com/in/xufei-wang-998341190/   \n",
       "1  she/her     Junior       https://www.linkedin.com/in/saruulamarbayar/   \n",
       "2  she/her  Sophomore  https://www.linkedin.com/in/sherlene-su-1166b521a   \n",
       "3  she/her     Junior  https://www.linkedin.com/in/ikshita-puri-3bb32...   \n",
       "4   he/him     Junior            https://www.linkedin.com/in/huangleo00/   \n",
       "\n",
       "                      email                      team         position  \\\n",
       "0     xfwang22@berkeley.edu           Berkeley Mobile         Designer   \n",
       "1       saruul@berkeley.edu  Chief Technology Officer                    \n",
       "2    sherlenes@berkeley.edu           Berkeley Mobile  Product Manager   \n",
       "3  ikshitapuri@berkeley.edu           Berkeley Mobile  Product Manager   \n",
       "4      klhftco@berkeley.edu           Berkeley Mobile        Developer   \n",
       "\n",
       "                name  \n",
       "0  Xufei (Eric) Wang  \n",
       "1   Saruul Amarbayar  \n",
       "2        Sherlene Su  \n",
       "3       Ikshita Puri  \n",
       "4          Leo Huang  "
      ]
     },
     "execution_count": 16,
     "metadata": {},
     "output_type": "execute_result"
    }
   ],
   "source": [
    "df.head()"
   ]
  },
  {
   "cell_type": "code",
   "execution_count": 18,
   "metadata": {},
   "outputs": [],
   "source": [
    "# df.to_csv('../data/alumni.csv')\n",
    "df.to_json(\"../data/alumni.json\", orient=\"records\")"
   ]
  },
  {
   "cell_type": "code",
   "execution_count": 21,
   "metadata": {},
   "outputs": [
    {
     "name": "stdout",
     "output_type": "stream",
     "text": [
      "import goldman from '../../assets/home/companies/goldman.png'\n",
      "import salesforce from '../../assets/home/companies/salesforce.png'\n",
      "import nvidia from '../../assets/home/companies/nvidia.png'\n",
      "import sap from '../../assets/home/companies/sap.png'\n",
      "import adobe from '../../assets/home/companies/adobe.png'\n",
      "import yelp from '../../assets/home/companies/yelp.png'\n",
      "import kearney from '../../assets/home/companies/kearney.png'\n",
      "import nih from '../../assets/home/companies/nih.png'\n",
      "import i4y from '../../assets/home/companies/i4y.png'\n",
      "import tesla from '../../assets/home/companies/tesla.png'\n",
      "import microsoft from '../../assets/home/companies/microsoft.png'\n",
      "import apple from '../../assets/home/companies/apple.png'\n",
      "import lbnl from '../../assets/home/companies/lbnl.png'\n",
      "import twitter from '../../assets/home/companies/twitter.png'\n",
      "import urap from '../../assets/home/companies/urap.png'\n",
      "import ours from '../../assets/home/companies/ours.png'\n",
      "import intel from '../../assets/home/companies/intel.png'\n",
      "import uber from '../../assets/home/companies/uber.png'\n",
      "import google from '../../assets/home/companies/google.png'\n",
      "import facebook from '../../assets/home/companies/facebook.png'\n",
      "import risk from '../../assets/home/companies/risk.png'\n",
      "import amazon from '../../assets/home/companies/amazon.png'\n",
      "import quantum from '../../assets/home/companies/quantum.jpeg'\n",
      "import lyft from '../../assets/home/companies/lyft.png'\n"
     ]
    }
   ],
   "source": [
    "import os\n",
    "\n",
    "\n",
    "def list_files_in_directory(directory_path):\n",
    "    return [\n",
    "        item\n",
    "        for item in os.listdir(directory_path)\n",
    "        if os.path.isfile(os.path.join(directory_path, item)) and item != \".DS_Store\"\n",
    "    ]\n",
    "\n",
    "\n",
    "directory_path = \"../assets/home/companies/\"\n",
    "files = list_files_in_directory(directory_path)\n",
    "\n",
    "for file in files:\n",
    "    print(f\"import {file.split('.')[0]} from '../../assets/home/companies/{file}'\")"
   ]
  },
  {
   "cell_type": "code",
   "execution_count": null,
   "metadata": {},
   "outputs": [],
   "source": []
  }
 ],
 "metadata": {
  "kernelspec": {
   "display_name": "Python 3",
   "language": "python",
   "name": "python3"
  },
  "language_info": {
   "codemirror_mode": {
    "name": "ipython",
    "version": 3
   },
   "file_extension": ".py",
   "mimetype": "text/x-python",
   "name": "python",
   "nbconvert_exporter": "python",
   "pygments_lexer": "ipython3",
   "version": "3.11.1"
  },
  "orig_nbformat": 4
 },
 "nbformat": 4,
 "nbformat_minor": 2
}
